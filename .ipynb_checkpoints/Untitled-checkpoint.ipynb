{
 "cells": [
  {
   "cell_type": "raw",
   "source": [],
   "metadata": {
    "collapsed": false
   },
   "id": "21ccc714e35e6a48"
  }
 ],
 "metadata": {},
 "nbformat": 4,
 "nbformat_minor": 5
}
